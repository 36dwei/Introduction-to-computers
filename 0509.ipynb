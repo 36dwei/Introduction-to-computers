{
  "nbformat": 4,
  "nbformat_minor": 0,
  "metadata": {
    "colab": {
      "name": "0509.ipynb",
      "provenance": [],
      "authorship_tag": "ABX9TyPsOUVLVV5UPh4IXnerNi9F",
      "include_colab_link": true
    },
    "kernelspec": {
      "name": "python3",
      "display_name": "Python 3"
    },
    "language_info": {
      "name": "python"
    }
  },
  "cells": [
    {
      "cell_type": "markdown",
      "metadata": {
        "id": "view-in-github",
        "colab_type": "text"
      },
      "source": [
        "<a href=\"https://colab.research.google.com/github/36dwei/Introduction-to-computers/blob/main/0509.ipynb\" target=\"_parent\"><img src=\"https://colab.research.google.com/assets/colab-badge.svg\" alt=\"Open In Colab\"/></a>"
      ]
    },
    {
      "cell_type": "code",
      "execution_count": null,
      "metadata": {
        "colab": {
          "base_uri": "https://localhost:8080/"
        },
        "id": "TF-MC0r_70vQ",
        "outputId": "8203109d-524e-4d09-d279-b88aa65ba203"
      },
      "outputs": [
        {
          "output_type": "stream",
          "name": "stdout",
          "text": [
            "請輸入你的體溫35\n",
            "體溫正常！\n"
          ]
        }
      ],
      "source": [
        "temp= float(input('請輸入你的體溫'))\n",
        "if temp >= 37.5 :\n",
        "  print('體溫過高！')\n",
        "elif temp >= 37 and temp < 37.4 :\n",
        "  print('體溫略高！')\n",
        "elif temp >= 34 and temp <= 36.9 :\n",
        "  print('體溫正常！')\n",
        "else :\n",
        "  print('體溫異常，請重新量測！')"
      ]
    },
    {
      "cell_type": "code",
      "source": [
        "q= int(input('請輸入成績'))\n",
        "if q > 90 :\n",
        "  print('A')\n",
        "elif q >=80 and q < 90 :\n",
        "  print('B')\n",
        "elif q >=70 and q < 80 :\n",
        "  print('C')\n",
        "elif q >=60 and q < 70 :\n",
        "  print('D')\n",
        "else :\n",
        "  print('E')\n",
        "\n"
      ],
      "metadata": {
        "colab": {
          "base_uri": "https://localhost:8080/"
        },
        "id": "wtCOOXarACFx",
        "outputId": "e8e031e3-4078-4855-90b2-28e347a497b5"
      },
      "execution_count": null,
      "outputs": [
        {
          "output_type": "stream",
          "name": "stdout",
          "text": [
            "請輸入成績92\n",
            "A\n"
          ]
        }
      ]
    },
    {
      "cell_type": "code",
      "source": [
        "money = int(input('請輸入購物金額'))\n",
        "if(money >= 10000):\n",
        "  if(money >= 100000):\n",
        "    print('八折',money * 0.8, end = '元\\n')\n",
        "  elif(money >= 50000):\n",
        "    print('八五折',money * 0.85, end = '元\\n')\n",
        "  elif(money >= 30000):\n",
        "    print('九折',money * 0.9, end = '元\\n')\n",
        "  else:\n",
        "    print('九五折',money * 0.95, end = '元\\n') \n",
        "else:\n",
        "  print('沒打折',money,end = '元\\n')"
      ],
      "metadata": {
        "colab": {
          "base_uri": "https://localhost:8080/"
        },
        "id": "BmFag8_HGIMb",
        "outputId": "c0f91a83-d755-4559-98b2-eeaca9ea4a38"
      },
      "execution_count": 38,
      "outputs": [
        {
          "output_type": "stream",
          "name": "stdout",
          "text": [
            "請輸入購物金額60000\n",
            "八五折 51000.0元\n"
          ]
        }
      ]
    },
    {
      "cell_type": "code",
      "source": [
        "month = int(input('請輸入月份'))\n",
        "if(month <= 12):\n",
        "  if(month is 3):\n",
        "    print(month,'是春天！')\n",
        "  elif(month is 4):\n",
        "    print(month,'是春天！')\n",
        "  elif(month is 5):\n",
        "    print(month,'是春天！')\n",
        "  elif(month is 6):\n",
        "    print(month,'是夏天！')\n",
        "  elif(month is 7):\n",
        "    print(month,'是夏天！')\n",
        "  elif(month is 8):\n",
        "    print(month,'是夏天！')\n",
        "  elif(month is 9):\n",
        "    print(month,'是秋天！')\n",
        "  elif(month is 10):\n",
        "    print(month,'是秋天！')\n",
        "  elif(month is 11):\n",
        "    print(month,'是秋天！')\n",
        "  else:\n",
        "    print(month,'是冬天！') \n",
        "else:\n",
        "  print('月份不在範圍內！')"
      ],
      "metadata": {
        "id": "OXu7volSJ7a6",
        "colab": {
          "base_uri": "https://localhost:8080/"
        },
        "outputId": "2740029b-c815-436e-9b43-c80bb9ec7817"
      },
      "execution_count": 99,
      "outputs": [
        {
          "output_type": "stream",
          "name": "stdout",
          "text": [
            "請輸入月份12\n",
            "12 是冬天！\n"
          ]
        }
      ]
    },
    {
      "cell_type": "code",
      "source": [
        "tax = int(input('請輸入今年收入淨額'))\n",
        "if(tax > 100000):\n",
        "  if(tax >= 2000000):\n",
        "    print('付款金額',tax * 0.3, end = '元\\n')\n",
        "  elif(tax >= 1000000):\n",
        "    print('付款金額',tax * 0.21, end = '元\\n')\n",
        "  elif(tax >= 600000):\n",
        "    print('付款金額',tax * 0.13, end = '元\\n')\n",
        "  elif(tax >= 300000):\n",
        "    print('付款金額',tax * 0.06, end = '元\\n') \n",
        "else:\n",
        "  print('付款金額',tax * 0, end = '元\\n')"
      ],
      "metadata": {
        "colab": {
          "base_uri": "https://localhost:8080/"
        },
        "id": "vzHPdizJmWs7",
        "outputId": "e2c1af56-b8c2-48ca-d21c-052cd2cab0b1"
      },
      "execution_count": 102,
      "outputs": [
        {
          "output_type": "stream",
          "name": "stdout",
          "text": [
            "請輸入今年收入淨額2000000\n",
            "付款金額 600000.0元\n"
          ]
        }
      ]
    }
  ]
}